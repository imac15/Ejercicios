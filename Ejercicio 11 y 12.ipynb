{
 "cells": [
  {
   "cell_type": "markdown",
   "id": "8fca4672",
   "metadata": {},
   "source": [
    "# Ejercicio 11"
   ]
  },
  {
   "cell_type": "markdown",
   "id": "d8edd530",
   "metadata": {},
   "source": [
    "11. Parque vehicular. La Ciudad de México tiene placas de automóviles con tres números seguidos por tres letras, es decir, son placas del tipo 999-AAA. Sin embargo, no pueden empezar con 0 (cero) ni se utilizan las letras I, O, Q y Ñ.\n",
    "\n",
    "a) ¿Cuántas placas diferentes son posibles?\n",
    "\n",
    "b) ¿Cuántas placas diferentes terminan en vocal?\n",
    "\n",
    "c) ¿Cuál es la probabilidad de que una placa, elegida al azar, sea impar?\n",
    "\n",
    "d) De acuerdo con el resultado obtenido en el inciso (a), abre un debate acerca de las consecuencias que traería consigo tener ese número de vehículos circulando en la ciudad. Además, realicen propuestas para mejorar los problemas de circulación vial que se viven en las grandes ciudades."
   ]
  },
  {
   "cell_type": "markdown",
   "id": "18e2613e",
   "metadata": {},
   "source": [
    "\n",
    "La fórmula de combinaciones se aplica de la siguiente manera:\n",
    "\n",
    "Hay 9 posibles dígitos numéricos (0-9), de los cuales se eligen 3.\n",
    "Hay 22 posibles letras (excluyendo las letras I, O, Q y Ñ.), de las cuales se eligen 3.\n",
    "Multiplicando las combinaciones de los dígitos y las letras obtenemos el total de placas diferentes posibles.\n",
    "\n",
    "\\begin{align}\n",
    "\\text{Fórmula: } 9^3 \\times 22^3\n",
    "\\end{align}\n",
    "\n",
    "$$\n",
    "\\begin{align}\n",
    "9^3 \\times 22^3 &= (9 \\times 9 \\times 9) \\times (22 \\times 22 \\times 22) \\ \\\\\n",
    "&= 729 \\times 10,648 \\ \\\\\n",
    "&= 7,762,392\n",
    "\\end{align}\n",
    "$$\n",
    "\n",
    "Por lo tanto se pueden formar *7,762,392* combinaciones de placas."
   ]
  },
  {
   "cell_type": "markdown",
   "id": "c85ed1b1",
   "metadata": {},
   "source": [
    "\n",
    "La fórmula de combinaciones se aplica a las 3 letras finales, ya que hay 17 letras vocales posibles (A, E, I, O, U) de las cuales se eligen 3.\n",
    "\n",
    "\\begin{align}\n",
    "\\text{Fórmula: } 5 \\times 17^3\n",
    "\\end{align}\n",
    "\n",
    "$$\n",
    "\\begin{align}\n",
    "5 \\times 17^3 &= 5 \\times (17 \\times 17 \\times 17) \\ \\\\\n",
    "&= 5 \\times 4,913 \\ \\\\\n",
    "&= 24,565\n",
    "\\end{align}\n",
    "$$\n",
    "\n",
    "Por lo tanto se pueden formar *24,565* combinaciones de placas que terminan en vocal."
   ]
  },
  {
   "cell_type": "markdown",
   "id": "2370429b",
   "metadata": {},
   "source": [
    "\n",
    "La fórmula de combinaciones se aplica a los 3 dígitos numéricos, donde hay 5 posibles dígitos impares (1, 3, 5, 7, 9) de los cuales se eligen 3.\n",
    "\n",
    "\\begin{align}\n",
    "\\text{Fórmula: } \\left(\\frac{5^3}{9^3 \\times 22^3}\\right) \\times 100\n",
    "\\end{align}\n",
    "\n",
    "$$\n",
    "\\begin{align}\n",
    "\\left(\\frac{5^3}{9^3 \\times 22^3}\\right) \\times 100 &= \\left(\\frac{5 \\times 5 \\times 5}{9 \\times 9 \\times 9 \\times 22 \\times 22 \\times 22}\\right) \\times 100 \\ \\\\\n",
    "&= \\left(\\frac{125}{729 \\times 10,648}\\right) \\times 100 \\ \\\\\n",
    "&= 0.0016%\n",
    "\\end{align}\n",
    "$$\n",
    "\n",
    "\n",
    "Por lo tanto existe un * 0.0016%* que una placa al azar sea impar."
   ]
  },
  {
   "cell_type": "code",
   "execution_count": 4,
   "id": "5c35ef76",
   "metadata": {},
   "outputs": [
    {
     "name": "stdout",
     "output_type": "stream",
     "text": [
      "a): 8869743 combinaciones de placas\n",
      "b): 29160 placas terminan en vocal\n",
      "c): 0.0014% es la probabilidad de que una placa elegida al azar sea impar\n"
     ]
    }
   ],
   "source": [
    "import math as m\n",
    "\n",
    "# Implementacion de la solucion del inciso a) del ejercicio 11\n",
    "n = 9 ** 3\n",
    "letras = 23 ** 3\n",
    "a = n * letras\n",
    "\n",
    "# Implementacion de la solucion del inciso b) del ejercicio 11\n",
    "vocales = ['A', 'E', 'I', 'O', 'U']\n",
    "nCons = 23 - len(vocales)\n",
    "b = len(vocales) * nCons ** 3\n",
    "\n",
    "# Implementacion de la solucion del inciso c) del ejercicio 11\n",
    "digitos_impares = 5 ** 3\n",
    "c = (digitos_impares / a) * 100\n",
    "\n",
    "\n",
    "print(f\"a): {a} combinaciones de placas\")\n",
    "print(f\"b): {b} placas terminan en vocal\")\n",
    "print(f\"c): {c:.4f}% es la probabilidad de que una placa elegida al azar sea impar\")\n"
   ]
  },
  {
   "cell_type": "markdown",
   "id": "41e5e3e4",
   "metadata": {},
   "source": [
    "# Ejercicio 12"
   ]
  },
  {
   "cell_type": "markdown",
   "id": "47aa5793",
   "metadata": {},
   "source": [
    "12. Servicios restauranteros.Una cadena de hamburguesas anuncia que se ofrecen 512 manerasde pedir una hamburguesa. Un cliente puede elegir cualquiera de estos ingredientes: cátsup, mostaza, mayonesa, aderezo de la casa, cebolla, pepinillos, jitomate, tocino y lechuga. ¿Crees que lo que afirma la empresa sea cierto? Justifica tu respuesta."
   ]
  },
  {
   "cell_type": "markdown",
   "id": "fecc21c0",
   "metadata": {},
   "source": [
    "Dado que hay 9 ingredientes en total (n = 9), y se puede seleccionar cualquier número de ellos (r puede variar de 0 a 9), aplicamos la sumatoria de combinaciones:\n",
    "\n",
    "$$\n",
    "\\begin{align}\n",
    "    _\\Sigma (_9C_r)\\\\\n",
    "    _nC_r &= \\dfrac{n!}{r!(n - r)!}\\\\ \n",
    "    _9C_0 &= \\dfrac{9!}{0!(9 - 0)!} = 1\\\\\n",
    "    _9C_1 &= \\dfrac{9!}{1!(9 - 1)!} = 9\\\\\n",
    "    _9C_2 &= \\dfrac{9!}{2!(9 - 2)!} = 36\\\\\n",
    "    _9C_3 &= \\dfrac{9!}{3!(9 - 3)!} = 84\\\\\n",
    "    _9C_4 &= \\dfrac{9!}{4!(9 - 4)!} = 126\\\\\n",
    "    _9C_5 &= \\dfrac{9!}{5!(9 - 5)!} = 126\\\\\n",
    "    _9C_6 &= \\dfrac{9!}{6!(9 - 6)!} = 84\\\\\n",
    "    _9C_7 &= \\dfrac{9!}{7!(9 - 7)!} = 36\\\\\n",
    "    _9C_8 &= \\dfrac{9!}{8!(9 - 8)!} = 9\\\\\n",
    "    _9C_9 &= \\dfrac{9!}{9!(9 - 9)!} = 1\\\\\n",
    "    &= 1 + 9 + 36 + 84 + 126 + 126 + 84 + 36 + 9 + 1 = 512\n",
    "\\end{align}\n",
    "$$\n",
    "\n",
    "Por lo tanto se pueden formar *512* combinaciones de hamburguesas."
   ]
  },
  {
   "cell_type": "code",
   "execution_count": 25,
   "id": "dd57c946",
   "metadata": {},
   "outputs": [
    {
     "name": "stdout",
     "output_type": "stream",
     "text": [
      "Hay 512 combinaciones de hamburguesas\n"
     ]
    }
   ],
   "source": [
    "# Implementacion de la solucion del ejercicio 12\n",
    "\n",
    "from math import factorial\n",
    "\n",
    "def com(n, r):\n",
    "    return factorial(n) // (factorial(r) * factorial(n-r))\n",
    "\n",
    "to_com = 0\n",
    "for r in range(10):\n",
    "    to_com += com(9, r)\n",
    "print(f\"Hay {int(to_com)} combinaciones de hamburguesas\")\n",
    "\n"
   ]
  },
  {
   "cell_type": "code",
   "execution_count": null,
   "id": "10789cd5",
   "metadata": {},
   "outputs": [],
   "source": []
  },
  {
   "cell_type": "code",
   "execution_count": null,
   "id": "d51a51f8",
   "metadata": {},
   "outputs": [],
   "source": []
  }
 ],
 "metadata": {
  "kernelspec": {
   "display_name": "Python 3 (ipykernel)",
   "language": "python",
   "name": "python3"
  },
  "language_info": {
   "codemirror_mode": {
    "name": "ipython",
    "version": 3
   },
   "file_extension": ".py",
   "mimetype": "text/x-python",
   "name": "python",
   "nbconvert_exporter": "python",
   "pygments_lexer": "ipython3",
   "version": "3.11.4"
  }
 },
 "nbformat": 4,
 "nbformat_minor": 5
}
